{
 "cells": [
  {
# testing git clone and merge
   "cell_type": "code",
   "execution_count": 301,
   "id": "63ee9a1d",
   "metadata": {},
   "outputs": [],
   "source": [
    "# importing things to use\n",
    "import spotipy\n",
    "import json\n",
    "import webbrowser\n",
    "import urllib.request\n",
    "import spotipy.util as util\n",
    "# python program to find the k most frequent words\n",
    "from collections import Counter\n",
    "# to filter out unimportant words\n",
    "import geocoder\n",
    "from nltk.corpus import stopwords\n",
    "import random\n",
    "# for changing playlist image\n",
    "import requests"
   ]
  },
  {
   "cell_type": "code",
   "execution_count": 302,
   "id": "799364f0",
   "metadata": {},
   "outputs": [],
   "source": [
    "# copy and paste the url into your browser to see what data you are getting back\n",
    "request = urllib.request.Request(\"https://go-apod.herokuapp.com/apod\")\n",
    "response = urllib.request.urlopen(request)"
   ]
  },
  {
   "cell_type": "code",
   "execution_count": 303,
   "id": "2141a5a4",
   "metadata": {},
   "outputs": [],
   "source": [
    "# establishing key\n",
    "NASA_API_KEY ='nRBjYykVgggkf0aLEzG1Sx141El3mjkDBIpgmSsS'"
   ]
  },
  {
   "cell_type": "code",
   "execution_count": 304,
   "id": "d3720530",
   "metadata": {},
   "outputs": [
    {
     "data": {
      "text/plain": [
       "http.client.HTTPResponse"
      ]
     },
     "execution_count": 304,
     "metadata": {},
     "output_type": "execute_result"
    }
   ],
   "source": [
    "# checking type\n",
    "type(response)"
   ]
  },
  {
   "cell_type": "code",
   "execution_count": 306,
   "id": "abd12a3b",
   "metadata": {},
   "outputs": [],
   "source": [
    "# getting information from chosen API\n",
    "Info = json.loads(response.read())"
   ]
  },
  {
   "cell_type": "code",
   "execution_count": 258,
   "id": "06bd74a2",
   "metadata": {},
   "outputs": [
    {
     "data": {
      "text/plain": [
       "{'copyright': 'Victor Lima',\n",
       " 'date': '2022-11-29',\n",
       " 'explanation': 'Because the Gum Nebula is the closest supernova remnant, it is actually hard to see.  Spanning 40 degrees across the sky, the nebula appears so large and faint that it is easily lost in the din of a bright and complex background.  The Gum Nebula is highlighted nicely in red emission toward the right of the featured wide-angle, single-image photograph taken in late May. Also visible in the frame are the Atacama Desert in Chile in the foreground, the Carina Nebula in the plane of our Milky Way galaxy running diagonally down from the upper left, and the neighboring Large Magellanic Cloud (LMC) galaxy. The Gum Nebula is so close that we are much nearer the front edge than the back edge, each measuring 450 and 1500 light years respectively.  The complicated nebula lies in the direction of the constellations of Puppis and Vela.  Oddly, much remains unknown about the Gum Nebula, including the timing and even number of supernova explosions that formed it.',\n",
       " 'hdurl': 'https://apod.nasa.gov/apod/image/2211/Gum_Lima_1365.jpg',\n",
       " 'media_type': 'image',\n",
       " 'service_version': 'v1',\n",
       " 'title': 'The Gum Nebula Supernova Remnant',\n",
       " 'url': 'https://apod.nasa.gov/apod/image/2211/Gum_Lima_960.jpg'}"
      ]
     },
     "execution_count": 258,
     "metadata": {},
     "output_type": "execute_result"
    }
   ],
   "source": [
    "# loooking at the info I get back\n",
    "Info"
   ]
  },
  {
   "cell_type": "code",
   "execution_count": 259,
   "id": "cf455417",
   "metadata": {},
   "outputs": [
    {
     "name": "stdout",
     "output_type": "stream",
     "text": [
      "['gum', 'nebula', 'closest', 'supernova', 'actually', 'hard', 'spanning', 'degrees', 'across', 'nebula', 'appears', 'large', 'faint', 'easily', 'lost', 'din', 'bright', 'complex', 'gum', 'nebula', 'highlighted', 'nicely', 'red', 'emission', 'toward', 'right', 'featured', 'photograph', 'taken', 'late', 'also', 'visible', 'frame', 'atacama', 'desert', 'chile', 'carina', 'nebula', 'plane', 'milky', 'way', 'galaxy', 'running', 'diagonally', 'upper', 'neighboring', 'large', 'magellanic', 'cloud', 'gum', 'nebula', 'close', 'much', 'nearer', 'front', 'edge', 'back', 'measuring', 'light', 'years', 'complicated', 'nebula', 'lies', 'direction', 'constellations', 'puppis', 'much', 'remains', 'unknown', 'gum', 'including', 'timing', 'even', 'number', 'supernova', 'explosions', 'formed']\n"
     ]
    }
   ],
   "source": [
    "# working with description to find results rather than title\n",
    "# results too vague?\n",
    "\n",
    "# I want to search spotify with the discription\n",
    "Search = Info['explanation']\n",
    "\n",
    "# formatting list of words - lowercase, split up, rmoving stop words and numbers\n",
    "# be careful with plural vs singular variables - this is why stopwords weren't working at first\n",
    "\n",
    "Searches = []\n",
    "for words in Search.lower().split(\" \"):\n",
    "    # is the word stop word or number?\n",
    "    if words not in stopwords.words('english') and words.isalpha():\n",
    "        # checking that I've drawn attention to what I want\n",
    "        Searches.append(words)\n",
    "        \n",
    "print(Searches)"
   ]
  },
  {
   "cell_type": "code",
   "execution_count": 260,
   "id": "59a20b61",
   "metadata": {},
   "outputs": [],
   "source": [
    "# N/A - trying to narrow down description to important words before I found above method\n",
    "\n",
    "# split() returns list of all the words in the string\n",
    "#split_it = Search.split()\n",
    "\n",
    "# looking at my list\n",
    "#split_it\n",
    "\n",
    "# Pass the split_it list to instance of Counter class.\n",
    "#Counter = Counter(split_it)\n",
    "\n",
    "# most_common() produces k frequently encountered\n",
    "# input values and their respective counts.\n",
    "#most_occur = Counter.most_common(5)\n",
    "\n",
    "#print(most_occur)\n",
    "#dissappointing results - ALL UNIMPORTANT WORDS"
   ]
  },
  {
   "cell_type": "code",
   "execution_count": 261,
   "id": "5526813d",
   "metadata": {},
   "outputs": [
    {
     "name": "stdout",
     "output_type": "stream",
     "text": [
      "The Gum Nebula Supernova Remnant\n"
     ]
    }
   ],
   "source": [
    "#Lets change direction\n",
    "Titletoday = Info['title']\n",
    "\n",
    "#use title instead\n",
    "print(Titletoday)"
   ]
  },
  {
   "cell_type": "code",
   "execution_count": 262,
   "id": "ccdac955",
   "metadata": {},
   "outputs": [
    {
     "name": "stdout",
     "output_type": "stream",
     "text": [
      "['the', 'gum', 'nebula', 'supernova', 'remnant']\n"
     ]
    }
   ],
   "source": [
    "# Refining title\n",
    "\n",
    "# I want to search spotify with the title\n",
    "# formatting list of words - lowercase, split up, rmoving stop words and numbers\n",
    "\n",
    "Titlewords = []\n",
    "for words in Titletoday.lower().split(\" \"):\n",
    "    # is the word stop word or number?\n",
    "    if word not in stopwords.words('english') and words.isalpha():\n",
    "        Titlewords.append(words)\n",
    "\n",
    "# checking that I've drawn attention to what I want\n",
    "print(Titlewords)"
   ]
  },
  {
   "cell_type": "code",
   "execution_count": 263,
   "id": "f4df7c89",
   "metadata": {},
   "outputs": [],
   "source": [
    "# open file with keys and set the path to your credentials JSON file\n",
    "credentials = \"gitignorespot.json\"\n",
    "with open(credentials, \"r\") as keys:\n",
    "    api_tokens = json.load(keys)"
   ]
  },
  {
   "cell_type": "code",
   "execution_count": 264,
   "id": "b562fb73",
   "metadata": {},
   "outputs": [
    {
     "data": {
      "text/plain": [
       "{'username': 'hi8r24vybys29altl8z56ry91',\n",
       " 'client_id': 'c9fa1a325eb24de2b56383cf2619b407',\n",
       " 'client_secret': '94fc7d338be649eb878ffa90855f8faa',\n",
       " 'redirect': 'http://google.com/'}"
      ]
     },
     "execution_count": 264,
     "metadata": {},
     "output_type": "execute_result"
    }
   ],
   "source": [
    "api_tokens"
   ]
  },
  {
   "cell_type": "code",
   "execution_count": 265,
   "id": "2e2fb623",
   "metadata": {},
   "outputs": [],
   "source": [
    "# read the keys and assign each to a variable\n",
    "# A redirect URI, or reply URL, is the location where the authorization server sends the user once the app has been \n",
    "# successfully authorized and granted an authorization code or access token.\n",
    "client_id = api_tokens[\"client_id\"]\n",
    "client_secret = api_tokens[\"client_secret\"]\n",
    "redirectURI = api_tokens[\"redirect\"]\n",
    "username = api_tokens[\"username\"]"
   ]
  },
  {
   "cell_type": "code",
   "execution_count": 266,
   "id": "5d69f2f1",
   "metadata": {},
   "outputs": [],
   "source": [
    "scope = 'user-read-private user-read-playback-state user-modify-playback-state playlist-modify-public'\n",
    "token = util.prompt_for_user_token(username, scope, client_id=client_id,\n",
    "                           client_secret=client_secret,\n",
    "                           redirect_uri=redirectURI)"
   ]
  },
  {
   "cell_type": "code",
   "execution_count": 267,
   "id": "7cc58aec",
   "metadata": {},
   "outputs": [
    {
     "data": {
      "text/plain": [
       "'BQB3zn6C7wLAQuGSoojAfmPtKgZlUyzfTVC0QXLDaL0ilSjynvPZOkjijrqKva21w7CyaBBVlCVa8i-SY1wVpBnjkA0GCIAnRmj1HZ71xTob18iQgoXaiqH4HlDs-4-a9C_LO81uLxxCxt7PHzNqpDh0yC4e7g-Y0AqEIfQcir_wSaGmcrNsQIn2QvqLScuFZfJbIW45V2T213BMCVDHJSn2d5AOi8guSuAw-DfpIiv6544-OVrXV2hZ8OLwjSBLpw'"
      ]
     },
     "execution_count": 267,
     "metadata": {},
     "output_type": "execute_result"
    }
   ],
   "source": [
    "# print token\n",
    "token"
   ]
  },
  {
   "cell_type": "code",
   "execution_count": 268,
   "id": "9bf670e3",
   "metadata": {},
   "outputs": [],
   "source": [
    "# create Spotify Object\n",
    "sp = spotipy.Spotify(auth=token)"
   ]
  },
  {
   "cell_type": "code",
   "execution_count": 283,
   "id": "c4fa8765",
   "metadata": {},
   "outputs": [
    {
     "name": "stdout",
     "output_type": "stream",
     "text": [
      "['spotify:track:5LJYnp6IaR79xu8VclJxos', 'spotify:track:5Y1JDF28qQDml25pVadnzb', 'spotify:track:6wVWJl64yoTzU27EI8ep20', 'spotify:track:3hN5cipCofNVspWVkToiQD', 'spotify:track:3Z0oQ8r78OUaHvGPiDBR3W', 'spotify:track:47cO59ADpxuR9mbbgDEC3j', 'spotify:track:3rQjc4GGMcrtXwis7vBzaQ', 'spotify:track:2eEGAUSEA7IFhEcgWcGWkq', 'spotify:track:5lWMFoiI4i3YZgBZot4eGS', 'spotify:track:2nrlxvu6Ygdqlp0xJNeha7', 'spotify:track:4vlfD75Kn6hdm2VpGVTfea', 'spotify:track:3vKLIvioZ1Dz02Qw3GCuWH', 'spotify:track:6ZQgooEk8PvsLxedYaT6Oa', 'spotify:track:1HNkqx9Ahdgi1Ixy2xkKkL', 'spotify:track:3vKLIvioZ1Dz02Qw3GCuWH', 'spotify:track:5F7AoCwgftgUdGUgd57RVE', 'spotify:track:5BZLlWbpi9fUR6thg6Y2f3', 'spotify:track:3khEEPRyBeOUabbmOPJzAG', 'spotify:track:6wVWJl64yoTzU27EI8ep20', 'spotify:track:5xEM5hIgJ1jjgcEBfpkt2F', 'spotify:track:0uYVJ8z5kgMayMNPJA6Cz9', 'spotify:track:3sslYZcFKtUvIEWN9lADgr', 'spotify:track:7dC1ODfFU31b77PQWgQ21M', 'spotify:track:003vvx7Niy0yvhvHt4a68B', 'spotify:track:1HNkqx9Ahdgi1Ixy2xkKkL', 'spotify:track:6wVWJl64yoTzU27EI8ep20', 'spotify:track:5FLpPX4YlTNKyzWIDENHTL', 'spotify:track:2id8E4WvczfKHB4LHI7Np3', 'spotify:track:3hN5cipCofNVspWVkToiQD', 'spotify:track:5FLpPX4YlTNKyzWIDENHTL', 'spotify:track:2kYDYNJcZyEADRXwoZgQUk', 'spotify:track:47BBI51FKFwOMlIiX6m8ya', 'spotify:track:0RnxpSzxzwZgFQ0NahQr9K', 'spotify:track:7dC1ODfFU31b77PQWgQ21M', 'spotify:track:4h0zU3O9R5xzuTmNO7dNDU', 'spotify:track:5BZLlWbpi9fUR6thg6Y2f3', 'spotify:track:3As642zhvPiy6J0ZB1Ai2p', 'spotify:track:5Z0GKdBhTmCsrIkM41DtRW', 'spotify:track:4vlfD75Kn6hdm2VpGVTfea', 'spotify:track:5Y1JDF28qQDml25pVadnzb', 'spotify:track:6dw3oQI0NhwYxMiNfVRIHA', 'spotify:track:3Iy6ZS7a2MYK90Z9Cmmfjp', 'spotify:track:2nrlxvu6Ygdqlp0xJNeha7', 'spotify:track:3Iy6ZS7a2MYK90Z9Cmmfjp', 'spotify:track:3Z0oQ8r78OUaHvGPiDBR3W', 'spotify:track:5atQ2haKP5LT65WM0KUts3', 'spotify:track:4ZPNGLtydYARKP681L3TAF', 'spotify:track:3vKLIvioZ1Dz02Qw3GCuWH', 'spotify:track:0PKaZjdkmgHqisekcHuI7b', 'spotify:track:7dC1ODfFU31b77PQWgQ21M']\n"
     ]
    }
   ],
   "source": [
    "# N/A - trying out searching by the title, too repetitive\n",
    "\n",
    "# start a list of songs for astronomy playlist\n",
    "songs_for_playlist = []\n",
    "for keyword in range(50):\n",
    "    # pick random\n",
    "    new_keyword = random.choice(Searches)\n",
    "     \n",
    "#search for tracks based on keyword, only give me 10 tracks\n",
    "    searchResults = sp.search(q=\"track:\" + new_keyword, limit=10)\n",
    "    if len(searchResults['tracks']['items']) > 0:\n",
    "            songs_for_playlist.append(searchResults['tracks']['items'][0]['uri'])\n",
    "        \n",
    "# unique songs only\n",
    "# leaves me with too few tracks\n",
    "unique_songs = []\n",
    "for item in songs_for_playlist: \n",
    "        if item not in unique_songs: \n",
    "            unique_songs.append(item) \n",
    "\n",
    "print(songs_for_playlist)"
   ]
  },
  {
   "cell_type": "code",
   "execution_count": 284,
   "id": "0e493d2d",
   "metadata": {},
   "outputs": [
    {
     "name": "stdout",
     "output_type": "stream",
     "text": [
      "['spotify:track:5LJYnp6IaR79xu8VclJxos', 'spotify:track:5Y1JDF28qQDml25pVadnzb', 'spotify:track:6wVWJl64yoTzU27EI8ep20', 'spotify:track:3hN5cipCofNVspWVkToiQD', 'spotify:track:3Z0oQ8r78OUaHvGPiDBR3W', 'spotify:track:47cO59ADpxuR9mbbgDEC3j', 'spotify:track:3rQjc4GGMcrtXwis7vBzaQ', 'spotify:track:2eEGAUSEA7IFhEcgWcGWkq', 'spotify:track:5lWMFoiI4i3YZgBZot4eGS', 'spotify:track:2nrlxvu6Ygdqlp0xJNeha7', 'spotify:track:4vlfD75Kn6hdm2VpGVTfea', 'spotify:track:3vKLIvioZ1Dz02Qw3GCuWH', 'spotify:track:6ZQgooEk8PvsLxedYaT6Oa', 'spotify:track:1HNkqx9Ahdgi1Ixy2xkKkL', 'spotify:track:5F7AoCwgftgUdGUgd57RVE', 'spotify:track:5BZLlWbpi9fUR6thg6Y2f3', 'spotify:track:3khEEPRyBeOUabbmOPJzAG', 'spotify:track:5xEM5hIgJ1jjgcEBfpkt2F', 'spotify:track:0uYVJ8z5kgMayMNPJA6Cz9', 'spotify:track:3sslYZcFKtUvIEWN9lADgr', 'spotify:track:7dC1ODfFU31b77PQWgQ21M', 'spotify:track:003vvx7Niy0yvhvHt4a68B', 'spotify:track:5FLpPX4YlTNKyzWIDENHTL', 'spotify:track:2id8E4WvczfKHB4LHI7Np3', 'spotify:track:2kYDYNJcZyEADRXwoZgQUk', 'spotify:track:47BBI51FKFwOMlIiX6m8ya', 'spotify:track:0RnxpSzxzwZgFQ0NahQr9K', 'spotify:track:4h0zU3O9R5xzuTmNO7dNDU', 'spotify:track:3As642zhvPiy6J0ZB1Ai2p', 'spotify:track:5Z0GKdBhTmCsrIkM41DtRW', 'spotify:track:6dw3oQI0NhwYxMiNfVRIHA', 'spotify:track:3Iy6ZS7a2MYK90Z9Cmmfjp', 'spotify:track:5atQ2haKP5LT65WM0KUts3', 'spotify:track:4ZPNGLtydYARKP681L3TAF', 'spotify:track:0PKaZjdkmgHqisekcHuI7b']\n"
     ]
    }
   ],
   "source": [
    "# checking results\n",
    "print(unique_songs)"
   ]
  },
  {
   "cell_type": "code",
   "execution_count": 285,
   "id": "d4cbe2b3",
   "metadata": {},
   "outputs": [
    {
     "name": "stdout",
     "output_type": "stream",
     "text": [
      "{'snapshot_id': 'Miw1OTFkZTZlNmNlZDEwMzJhOTZhZTdiYTVhOTQ3NGYzNjZkYmM4Yjkz'}\n"
     ]
    }
   ],
   "source": [
    "# make playlist\n",
    "my_playlist = sp.user_playlist_create(user=username, name=Titletoday, public=True,\n",
    "                                      description=Search)\n",
    "results = sp.user_playlist_add_tracks(username, my_playlist['id'], songs_for_playlist)\n",
    "print(results)"
   ]
  },
  {
   "cell_type": "code",
   "execution_count": 318,
   "id": "a5ee74e1",
   "metadata": {},
   "outputs": [
    {
     "data": {
      "text/plain": [
       "True"
      ]
     },
     "execution_count": 318,
     "metadata": {},
     "output_type": "execute_result"
    }
   ],
   "source": [
    "# sp.start_playback(deviceID, None, track_selection_list)\n",
    "webbrowser.open(my_playlist['external_urls']['spotify'])\n",
    "webbrowser.open(\"https://go-apod.herokuapp.com/image\")"
   ]
  },
  {
   "cell_type": "code",
   "execution_count": 148,
   "id": "aeb2db6c",
   "metadata": {},
   "outputs": [],
   "source": [
    "# in future I would like to also like to add the daily image from the API as the playlist cover image\n",
    "# would use - https://api.spotify.com/v1/playlists/{playlist_id}/images and https://go-apod.herokuapp.com/image\n",
    "# havent figured out how to do this as of yet"
   ]
  },
  {
   "cell_type": "code",
   "execution_count": 310,
   "id": "93714ac9",
   "metadata": {},
   "outputs": [],
   "source": []
  },
  {
   "cell_type": "code",
   "execution_count": null,
   "id": "ce58d808",
   "metadata": {},
   "outputs": [],
   "source": []
  },
  {
   "cell_type": "code",
   "execution_count": null,
   "id": "32e5ce0f",
   "metadata": {},
   "outputs": [],
   "source": []
  },
  {
   "cell_type": "code",
   "execution_count": null,
   "id": "5cfc112b",
   "metadata": {},
   "outputs": [],
   "source": []
  },
  {
   "cell_type": "code",
   "execution_count": 220,
   "id": "3c0303a2",
   "metadata": {},
   "outputs": [],
   "source": []
  },
  {
   "cell_type": "code",
   "execution_count": null,
   "id": "993b81fb",
   "metadata": {},
   "outputs": [],
   "source": []
  },
  {
   "cell_type": "code",
   "execution_count": 116,
   "id": "787d878f",
   "metadata": {},
   "outputs": [],
   "source": []
  },
  {
   "cell_type": "code",
   "execution_count": null,
   "id": "db3ff558",
   "metadata": {},
   "outputs": [],
   "source": []
  },
  {
   "cell_type": "code",
   "execution_count": null,
   "id": "0b225515",
   "metadata": {},
   "outputs": [],
   "source": []
  },
  {
   "cell_type": "code",
   "execution_count": 21,
   "id": "18c22cf5",
   "metadata": {},
   "outputs": [],
   "source": []
  },
  {
   "cell_type": "code",
   "execution_count": null,
   "id": "dcec113f",
   "metadata": {},
   "outputs": [],
   "source": []
  },
  {
   "cell_type": "code",
   "execution_count": 23,
   "id": "29dc5368",
   "metadata": {},
   "outputs": [],
   "source": []
  },
  {
   "cell_type": "code",
   "execution_count": 38,
   "id": "069008f3",
   "metadata": {},
   "outputs": [],
   "source": []
  },
  {
   "cell_type": "code",
   "execution_count": null,
   "id": "299559a4",
   "metadata": {},
   "outputs": [],
   "source": []
  },
  {
   "cell_type": "code",
   "execution_count": 41,
   "id": "4559401c",
   "metadata": {},
   "outputs": [],
   "source": []
  },
  {
   "cell_type": "code",
   "execution_count": null,
   "id": "85a2c8ca",
   "metadata": {},
   "outputs": [],
   "source": []
  },
  {
   "cell_type": "code",
   "execution_count": 43,
   "id": "8c422959",
   "metadata": {},
   "outputs": [],
   "source": []
  },
  {
   "cell_type": "code",
   "execution_count": null,
   "id": "35b01df0",
   "metadata": {},
   "outputs": [],
   "source": []
  },
  {
   "cell_type": "code",
   "execution_count": null,
   "id": "1b5ba927",
   "metadata": {},
   "outputs": [],
   "source": []
  },
  {
   "cell_type": "code",
   "execution_count": null,
   "id": "8d0a356a",
   "metadata": {},
   "outputs": [],
   "source": []
  },
  {
   "cell_type": "code",
   "execution_count": null,
   "id": "6c088e52",
   "metadata": {},
   "outputs": [],
   "source": []
  },
  {
   "cell_type": "code",
   "execution_count": null,
   "id": "32f32431",
   "metadata": {},
   "outputs": [],
   "source": []
  }
 ],
 "metadata": {
  "kernelspec": {
   "display_name": "Python 3 (ipykernel)",
   "language": "python",
   "name": "python3"
  },
  "language_info": {
   "codemirror_mode": {
    "name": "ipython",
    "version": 3
   },
   "file_extension": ".py",
   "mimetype": "text/x-python",
   "name": "python",
   "nbconvert_exporter": "python",
   "pygments_lexer": "ipython3",
   "version": "3.9.13"
  }
 },
 "nbformat": 4,
 "nbformat_minor": 5
}
